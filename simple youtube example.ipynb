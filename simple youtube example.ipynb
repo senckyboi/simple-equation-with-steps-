{
 "cells": [
  {
   "cell_type": "code",
   "execution_count": null,
   "metadata": {},
   "outputs": [],
   "source": [
    "import numpy as np\n",
    "from scipy.integrate import odeint\n",
    "%matplotlib inline\n",
    "import matplotlib.pyplot as plt\n",
    "\n",
    "# tau*dydt = -y + k*u  solve this for stepchange in u (step input at certain time)\n",
    "\n",
    "def firstorder(y,t):\n",
    "    tau = 5.0\n",
    "    k = 2.0\n",
    "    u = 1.0\n",
    "    dydt = (-y + k*u)/tau\n",
    "    return dydt\n",
    "\n",
    "t = np.linspace(0,10,11)\n",
    "\n",
    "y = odeint(firstorder,0, t)\n",
    "print(y)\n",
    "\n",
    "plt.plot(t,y)\n"
   ]
  },
  {
   "cell_type": "code",
   "execution_count": null,
   "metadata": {},
   "outputs": [],
   "source": [
    "# now we want to have that u value change at different times \n",
    "import numpy as np\n",
    "from scipy.integrate import odeint\n",
    "%matplotlib inline\n",
    "import matplotlib.pyplot as plt\n",
    "\n",
    "# tau*dydt = -y + k*u  solve this for stepchange in u (step input at certain time)\n",
    "\n",
    "# lets say we want to have diff k and u\n",
    "# dann definen wir sie nicht hier sondern beforehand\n",
    "def firstorder(y,t, k, u):\n",
    "    tau = 5.0\n",
    "    #k = 2.0\n",
    "    #u = 1.0\n",
    "    dydt = (-y + k*u)/tau\n",
    "    return dydt\n",
    "\n",
    "t = np.linspace(0,10,11)\n",
    "k = 2.0\n",
    "\n",
    "#write them don here and feed those in as its integrating\n",
    "# lets change the value of u at every timepoint\n",
    "# u zeros same length as time\n",
    "u = np.zeros(len(t))\n",
    "u[3:8] = 1.0\n",
    "print(u)\n",
    "\n",
    "\n",
    "y = odeint(firstorder,0, t, args = (k,u)) # added in as arguments\n",
    "#print(y)\n",
    "\n",
    "#plt.plot(t, y)\n"
   ]
  },
  {
   "cell_type": "code",
   "execution_count": null,
   "metadata": {
    "scrolled": false
   },
   "outputs": [],
   "source": [
    "# now we want to have that u value change at different times \n",
    "import numpy as np\n",
    "from scipy.integrate import odeint\n",
    "%matplotlib inline\n",
    "import matplotlib.pyplot as plt\n",
    "\n",
    "# tau*dydt = -y + k*u  solve this for stepchange in u (step input at certain time)\n",
    "\n",
    "# lets say we want to have diff k and u\n",
    "# dann definen wir sie nicht hier sondern beforehand\n",
    "def firstorder(y,t, k, u):\n",
    "    tau = 5.0\n",
    "    #k = 2.0\n",
    "    #u = 1.0\n",
    "    dydt = (-y + k*u)/tau\n",
    "    return dydt\n",
    "\n",
    "t = np.linspace(0,10,11)\n",
    "k = 2.0\n",
    "\n",
    "#write them don here and feed those in as its integrating\n",
    "# lets change the value of u at every timepoint \n",
    "# change u at different time sin that horizon?? \n",
    "# u zeros same length as time\n",
    "u = np.zeros(len(t))\n",
    "u[3:8] = 1.0\n",
    "y0 = 0\n",
    "\n",
    "# we have different u values now and we want to have those input at different times in the horizon\n",
    "# create for loop for i in range of t\n",
    "# that was 11 , we need to minus 1 because we only going 10 steps\n",
    "# and then we want to integrate this for the first timestep\n",
    "# and thats gonna be not all of those t values \n",
    "#but thats only gonna be between ti to ti+1 -created lil vector\n",
    "\n",
    "for i in range(len(t)-1):\n",
    "    ts = [t[i], t[i+1]]\n",
    "# erst fehler weil man vector because i put a vector in here\n",
    "#args=(k,u) and it returned a vector of dydt\n",
    "# we need to put in u[i] so its gonna use the value of u, oben ham \n",
    "#oben ham wir nähmlich bei u = npzeros in vector instea dof scalar gewandelt\n",
    "#deshalb darf man nur ein vlaue hier reinmachen\n",
    "# und deshalb hat e snur bei args=(k,u) gehangen\n",
    "# die message kam weil es sagte the size of the array retruned by f\n",
    "# does not match the size of y0 weils nur ne single numbe ris \n",
    "# aber es war returning 11 numbers and the dydt weil man ohne \n",
    "# ohne u[i] ein u reingepasst hat was 11 lang war\n",
    "# dadruch wurde dydt auch 11 long und returned 11 \n",
    "# aber wow wir ham nur 1 state\n",
    "    y = odeint(firstorder,y0, ts, args = (k,u[i])) # added in as arguments\n",
    "    y0 = y[1]\n",
    "    #y0 initial cond y[1] final cond and then it feed back in\n",
    "    #afte rit integrates new initial condition is y1\n",
    "    # the next time it goes in loop it feed in the new initial condition and recalculate that\n",
    "    #print(y) when it solves that\n",
    "    print(y[1])\n",
    "\n",
    "#plt.plot(t, y)\n",
    "\n",
    "plt.plot(t,y)\n"
   ]
  },
  {
   "cell_type": "code",
   "execution_count": 4,
   "metadata": {},
   "outputs": [
    {
     "name": "stdout",
     "output_type": "stream",
     "text": [
      "[0.         0.         0.         0.         0.36253849 0.65935989\n",
      " 0.90237668 1.101342   1.26424102 1.39761146 1.50680593]\n"
     ]
    },
    {
     "data": {
      "image/png": "[encoded data removed]",
      "text/plain": [
       "<Figure size 432x288 with 1 Axes>"
      ]
     },
     "metadata": {
      "needs_background": "light"
     },
     "output_type": "display_data"
    }
   ],
   "source": [
    "# now we want to have that u value change at different times \n",
    "import numpy as np\n",
    "from scipy.integrate import odeint\n",
    "%matplotlib inline\n",
    "import matplotlib.pyplot as plt\n",
    "\n",
    "# tau*dydt = -y + k*u  solve this for stepchange in u (step input at certain time)\n",
    "\n",
    "# lets say we want to have diff k and u\n",
    "# dann definen wir sie nicht hier sondern beforehand\n",
    "def firstorder(y,t, k, u):\n",
    "    tau = 5.0\n",
    "    #k = 2.0\n",
    "    #u = 1.0\n",
    "    dydt = (-y + k*u)/tau\n",
    "    return dydt\n",
    "\n",
    "t = np.linspace(0,10,11)\n",
    "k = 2.0\n",
    "\n",
    "\n",
    "u = np.zeros(len(t))\n",
    "#u[3:8] = 1.0\n",
    "u[3:] = 1.0\n",
    "y0 = 0\n",
    "\n",
    "# we need to store these numbers, to do that we do ys = np.zeros\n",
    "# with same length as t\n",
    "# very first one initial condition\n",
    "# very first element is going to be equal to Y0\n",
    "\n",
    "ys = np.zeros(len(t)) # des erste mal gehts nur ums definen\n",
    "ys[0] = y0 # kann man des weglassen?\n",
    "\n",
    "# and then we will store this each time we go through zZz\n",
    "\n",
    "\n",
    "for i in range(len(t)-1):   # index 11 is out of bounds for axis 0 with size 11 ohne -1\n",
    "    ts = [t[i], t[i+1]]\n",
    "\n",
    "    y = odeint(firstorder,y0, ts, args = (k,u[i])) # added in as arguments\n",
    "    y0 = y[1]\n",
    "    #zZz will be i+1 going to be the next one in that list going to be y0\n",
    "    \n",
    "    ys[i+1] = y0\n",
    "    #print(y[1])\n",
    "    \n",
    "\n",
    "\n",
    "\n",
    "plt.plot(t,ys)\n",
    "\n",
    "print(ys)\n"
   ]
  },
  {
   "cell_type": "code",
   "execution_count": 1,
   "metadata": {
    "scrolled": false
   },
   "outputs": [
    {
     "name": "stdout",
     "output_type": "stream",
     "text": [
      "[[0.00000000e+00]\n",
      " [0.00000000e+00]\n",
      " [0.00000000e+00]\n",
      " [8.80546920e-09]\n",
      " [3.62538500e-01]\n",
      " [6.59359914e-01]\n",
      " [9.02376737e-01]\n",
      " [1.10134208e+00]\n",
      " [1.26424113e+00]\n",
      " [1.39761160e+00]\n",
      " [1.50680610e+00]]\n"
     ]
    },
    {
     "data": {
      "image/png": "[encoded data removed]",
      "text/plain": [
       "<Figure size 432x288 with 1 Axes>"
      ]
     },
     "metadata": {
      "needs_background": "light"
     },
     "output_type": "display_data"
    }
   ],
   "source": [
    "# Avoided the loop by passing u as a function representing the step function:\n",
    "import numpy as np\n",
    "from scipy.integrate import odeint\n",
    "%matplotlib inline\n",
    "import matplotlib.pyplot as plt\n",
    "def first_order(y, t, tau, K, u):\n",
    "    dydt = (-y + K*u(t)) / tau\n",
    "    return dydt\n",
    "\n",
    "\n",
    "t0 = 0\n",
    "t1 = 10\n",
    "intervals = 11\n",
    "t = np.linspace(t0, t1, intervals)\n",
    "tau = 5.0\n",
    "K = 2.0\n",
    "#x = lambda a: a + 17-print(x(5))- 22. weil 17+5 is 22\n",
    "#https://www.w3schools.com/python/python_lambda.asp\n",
    "#lambda arguments : expression, expression is executed and result is returned\n",
    "u = lambda t: 0 if t < 3 else 1\n",
    "\n",
    "y = odeint(first_order, 0, t, args=(tau, K, u))\n",
    "plt.plot(t, y)\n",
    "\n",
    "print(y)"
   ]
  },
  {
   "cell_type": "code",
   "execution_count": 5,
   "metadata": {},
   "outputs": [
    {
     "name": "stdout",
     "output_type": "stream",
     "text": [
      "[[0.00000000e+00]\n",
      " [0.00000000e+00]\n",
      " [0.00000000e+00]\n",
      " [8.80546920e-09]\n",
      " [3.62538500e-01]\n",
      " [6.59359914e-01]\n",
      " [9.02376737e-01]\n",
      " [1.10134208e+00]\n",
      " [1.26424113e+00]\n",
      " [1.39761160e+00]\n",
      " [1.50680610e+00]]\n"
     ]
    },
    {
     "data": {
      "image/png": "[encoded data removed]",
      "text/plain": [
       "<Figure size 432x288 with 1 Axes>"
      ]
     },
     "metadata": {
      "needs_background": "light"
     },
     "output_type": "display_data"
    }
   ],
   "source": [
    "#self\n",
    "# Avoided the loop by passing u as a function representing the step function:\n",
    "import numpy as np\n",
    "from scipy.integrate import odeint\n",
    "%matplotlib inline\n",
    "import matplotlib.pyplot as plt\n",
    "\n",
    "t = np.linspace(t0, t1, intervals)\n",
    "def first_order(y, t, tau, K):\n",
    "    \n",
    "    if t < 3:\n",
    "        u = 0.0\n",
    "    else:\n",
    "        u = 1.0\n",
    "    \n",
    "    dydt = (-y + K*u )/ tau\n",
    "    return dydt\n",
    "\n",
    "\n",
    "t0 = 0\n",
    "t1 = 10\n",
    "intervals = 11\n",
    "t = np.linspace(t0, t1, intervals)\n",
    "tau = 5.0\n",
    "K = 2.0\n",
    "#x = lambda a: a + 17-print(x(5))- 22. weil 17+5 is 22\n",
    "#https://www.w3schools.com/python/python_lambda.asp\n",
    "#lambda arguments : expression, expression is executed and result is returned\n",
    "u = lambda t: 0 if t < 3 else 1\n",
    "\n",
    "y = odeint(first_order, 0, t, args=(tau, K))\n",
    "plt.plot(t, y)\n",
    "\n",
    "print(y)"
   ]
  },
  {
   "cell_type": "code",
   "execution_count": null,
   "metadata": {},
   "outputs": [],
   "source": []
  }
 ],
 "metadata": {
  "kernelspec": {
   "display_name": "Python 3",
   "language": "python",
   "name": "python3"
  },
  "language_info": {
   "codemirror_mode": {
    "name": "ipython",
    "version": 3
   },
   "file_extension": ".py",
   "mimetype": "text/x-python",
   "name": "python",
   "nbconvert_exporter": "python",
   "pygments_lexer": "ipython3",
   "version": "3.8.3"
  }
 },
 "nbformat": 4,
 "nbformat_minor": 4
}
